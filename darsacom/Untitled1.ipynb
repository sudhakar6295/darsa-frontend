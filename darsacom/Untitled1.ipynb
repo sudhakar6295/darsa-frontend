{
 "cells": [
  {
   "cell_type": "code",
   "execution_count": 42,
   "id": "a786b8bb-8e10-4b93-a8ae-006338f8bc1a",
   "metadata": {},
   "outputs": [],
   "source": [
    "import json\n",
    "\n",
    "# Assuming your JSON data is stored in a file named 'data.json'\n",
    "file_path = 'sample2.json'\n",
    "\n",
    "# Open the file in read mode with explicit encoding\n",
    "with open(file_path, 'r', encoding='utf-8') as file:\n",
    "    # Load the JSON data\n",
    "    json_data = json.load(file)\n",
    "\n",
    "\n",
    "\n"
   ]
  },
  {
   "cell_type": "code",
   "execution_count": null,
   "id": "f30630f2-4641-4fbf-8da2-26f43e727567",
   "metadata": {},
   "outputs": [],
   "source": []
  },
  {
   "cell_type": "code",
   "execution_count": 50,
   "id": "b6d1daef-cafd-4ce7-b0d2-81da679bf4d9",
   "metadata": {},
   "outputs": [],
   "source": [
    "valid_items = ['id', 'id_erp', 'idMarca', 'seller_id', 'sku', 'nombreProducto', 'modelo', 'dimension', 'peso', 'peso_volumetrico', 'ancho', 'largo', 'alto', 'apilable', 'maxApilable', 'propAncho', 'propAlto', 'propLargo', 'ruta', 'pack', 'variantesAgrupadas', 'packPadre', 'margen', 'stock', 'idMedida', 'precio', 'precioReferencia', 'img', 'youtube', 'video', 'descripcion', 'descripcionCorta', 'despacho', 'retiroTienda', 'descuento', 'mostrarHome', 'probador', 'destacado', 'complemento', 'precioComplemento', 'fichaTecnica', 'nombreFicha', 'orientacion', 'delivery', 'idProveedor', 'idioma', 'tag', 'meta_title', 'meta_description', 'actionStore', 'currencyBasePrice', 'saleDecimal', 'criticalStock', 'idCategoria', 'tipoVenta', 'cantidadLote', 'precioUnitario', 'rechazoProducto', 'publicado', 'created_at', 'updated_at', 'deleted_at', 'published_at', 'centry_id', 'cat_id', 'cat_nombre', 'cat_alias', 'cat_ruta', 'cat_img', 'cat_banner', 'marca']"
   ]
  },
  {
   "cell_type": "code",
   "execution_count": 51,
   "id": "d0310b6e-9dfb-4cc0-9278-19993d00dde8",
   "metadata": {},
   "outputs": [],
   "source": [
    "for i in json_data:\n",
    "    if i.get('sku') == 'I1100102':\n",
    "        value = i\n",
    "        break"
   ]
  },
  {
   "cell_type": "code",
   "execution_count": 52,
   "id": "5ebc0958-c7a9-4520-80e2-3f58bd9a7a90",
   "metadata": {},
   "outputs": [],
   "source": [
    "insert_items = []\n",
    "for ky,val in value.items():\n",
    "    if ky in valid_items:\n",
    "        insert_items.append(val)"
   ]
  },
  {
   "cell_type": "code",
   "execution_count": 54,
   "id": "d03b8dbe-2b31-48c8-b0a1-6dbfb74ead36",
   "metadata": {},
   "outputs": [
    {
     "data": {
      "text/plain": [
       "71"
      ]
     },
     "execution_count": 54,
     "metadata": {},
     "output_type": "execute_result"
    }
   ],
   "source": [
    "len(insert_items)"
   ]
  },
  {
   "cell_type": "code",
   "execution_count": 57,
   "id": "ecd2a5d8-c1c7-4ab4-a634-b1776f8eb021",
   "metadata": {},
   "outputs": [
    {
     "data": {
      "text/plain": [
       "(341,\n",
       " None,\n",
       " 2,\n",
       " None,\n",
       " 'I1100102',\n",
       " 'Sello leger 110 inserto metal Azul 28cm',\n",
       " '110',\n",
       " 1,\n",
       " '0.2800',\n",
       " '1.2977',\n",
       " 28.6,\n",
       " 36.3,\n",
       " 5,\n",
       " 0,\n",
       " None,\n",
       " None,\n",
       " None,\n",
       " None,\n",
       " 'sello-leger-110-inserto-metal-azul-28cm-i1100102',\n",
       " 0,\n",
       " 0,\n",
       " None,\n",
       " 0,\n",
       " '20.00',\n",
       " None,\n",
       " 11305,\n",
       " 0,\n",
       " 'sellos-leger-110-colores-darsa-web.jpg',\n",
       " None,\n",
       " None,\n",
       " '<p>Dimensi&oacute;n</p>\\r\\n\\r\\n<p>Alto: 280 mm</p>\\r\\n\\r\\n<p>Ancho: 2 mm</p>',\n",
       " 'Sello ajustable de alta seguridad, con inserto metálico\\xa0y numeración\\xa0correlativa en color azul.',\n",
       " 1,\n",
       " 1,\n",
       " '0.000000',\n",
       " 0,\n",
       " 0,\n",
       " 1,\n",
       " 0,\n",
       " None,\n",
       " 0,\n",
       " None,\n",
       " 1,\n",
       " 0,\n",
       " 1,\n",
       " 1,\n",
       " None,\n",
       " 'Sello leger 110 inserto metal Azul 28cm',\n",
       " 'Sello ajustable de alta seguridad, con inserto metálico\\xa0y numeración\\xa0correlativa en color azul.',\n",
       " 1,\n",
       " 0,\n",
       " 0,\n",
       " 0,\n",
       " None,\n",
       " 'unidad',\n",
       " 0,\n",
       " 11305,\n",
       " None,\n",
       " 1,\n",
       " '2020-04-08 13:10:16',\n",
       " '2023-10-20 10:51:03',\n",
       " None,\n",
       " '2022-06-06 07:58:00',\n",
       " None,\n",
       " 3,\n",
       " 'Industrial',\n",
       " 'industrial',\n",
       " '/esp/industrial',\n",
       " 'no-image.jpg',\n",
       " 'no-image-banner.jpg',\n",
       " 'Darsa spa')"
      ]
     },
     "execution_count": 57,
     "metadata": {},
     "output_type": "execute_result"
    }
   ],
   "source": [
    "tuple(insert_items)"
   ]
  },
  {
   "cell_type": "code",
   "execution_count": null,
   "id": "d94560d2-0bf4-4ea5-91ab-78ab99cebc56",
   "metadata": {},
   "outputs": [],
   "source": []
  },
  {
   "cell_type": "code",
   "execution_count": 40,
   "id": "b7630ae4-5509-4553-8110-41cb72a9d53a",
   "metadata": {},
   "outputs": [],
   "source": [
    "value = {'id': 341,\n",
    " 'id_erp': None,\n",
    " 'idMarca': 2,\n",
    " 'seller_id': None,\n",
    " 'sku': 'I1100102',\n",
    " 'nombreProducto': 'Sello leger 110 inserto metal Azul 28cm',\n",
    " 'modelo': '110',\n",
    " 'dimension': 1,\n",
    " 'peso': '0.2800',\n",
    " 'peso_volumetrico': '1.2977',\n",
    " 'ancho': 28.6,\n",
    " 'largo': 36.3,\n",
    " 'alto': 5,\n",
    " 'apilable': 0,\n",
    " 'maxApilable': None,\n",
    " 'propAncho': None,\n",
    " 'propAlto': None,\n",
    " 'propLargo': None,\n",
    " 'ruta': 'sello-leger-110-inserto-metal-azul-28cm-i1100102',\n",
    " 'pack': 0,\n",
    " 'variantesAgrupadas': 0,\n",
    " 'packPadre': None,\n",
    " 'margen': 0,\n",
    " 'stock': '20.00',\n",
    " 'idMedida': None,\n",
    " 'precio': 11305,\n",
    " 'precioReferencia': 0,\n",
    " 'img': 'sellos-leger-110-colores-darsa-web.jpg',\n",
    " 'youtube': None,\n",
    " 'video': None,\n",
    " 'descripcion': '<p>Dimensi&oacute;n</p>\\r\\n\\r\\n<p>Alto: 280 mm</p>\\r\\n\\r\\n<p>Ancho: 2 mm</p>',\n",
    " 'descripcionCorta': 'Sello ajustable de alta seguridad, con inserto metálico\\xa0y numeración\\xa0correlativa en color azul.',\n",
    " 'despacho': 1,\n",
    " 'retiroTienda': 1,\n",
    " 'descuento': '0.000000',\n",
    " 'mostrarHome': 0,\n",
    " 'probador': 0,\n",
    " 'destacado': 1,\n",
    " 'complemento': 0,\n",
    " 'precioComplemento': None,\n",
    " 'fichaTecnica': 0,\n",
    " 'nombreFicha': None,\n",
    " 'orientacion': 1,\n",
    " 'delivery': 0,\n",
    " 'idProveedor': 1,\n",
    " 'idioma': 1,\n",
    " 'tag': None,\n",
    " 'meta_title': 'Sello leger 110 inserto metal Azul 28cm',\n",
    " 'meta_description': 'Sello ajustable de alta seguridad, con inserto metálico\\xa0y numeración\\xa0correlativa en color azul.',\n",
    " 'actionStore': 1,\n",
    " 'currencyBasePrice': 0,\n",
    " 'saleDecimal': 0,\n",
    " 'criticalStock': 0,\n",
    " 'idCategoria': None,\n",
    " 'tipoVenta': 'unidad',\n",
    " 'cantidadLote': 0,\n",
    " 'precioUnitario': 11305,\n",
    " 'rechazoProducto': None,\n",
    " 'publicado': 1,\n",
    " 'created_at': '2020-04-08 13:10:16',\n",
    " 'updated_at': '2023-10-20 10:51:03',\n",
    " 'deleted_at': None,\n",
    " 'published_at': '2022-06-06 07:58:00',\n",
    " 'centry_id': None,\n",
    " 'cat_id': 3,\n",
    " 'cat_nombre': 'Industrial',\n",
    " 'cat_alias': 'industrial',\n",
    " 'cat_ruta': '/esp/industrial',\n",
    " 'cat_img': 'no-image.jpg',\n",
    " 'cat_banner': 'no-image-banner.jpg',\n",
    " 'marca': 'Darsa spa'}"
   ]
  },
  {
   "cell_type": "code",
   "execution_count": 41,
   "id": "9fb1c486-d6e5-452d-932d-7c2a2e4dd12b",
   "metadata": {},
   "outputs": [
    {
     "data": {
      "text/plain": [
       "dict_keys(['id', 'id_erp', 'idMarca', 'seller_id', 'sku', 'nombreProducto', 'modelo', 'dimension', 'peso', 'peso_volumetrico', 'ancho', 'largo', 'alto', 'apilable', 'maxApilable', 'propAncho', 'propAlto', 'propLargo', 'ruta', 'pack', 'variantesAgrupadas', 'packPadre', 'margen', 'stock', 'idMedida', 'precio', 'precioReferencia', 'img', 'youtube', 'video', 'descripcion', 'descripcionCorta', 'despacho', 'retiroTienda', 'descuento', 'mostrarHome', 'probador', 'destacado', 'complemento', 'precioComplemento', 'fichaTecnica', 'nombreFicha', 'orientacion', 'delivery', 'idProveedor', 'idioma', 'tag', 'meta_title', 'meta_description', 'actionStore', 'currencyBasePrice', 'saleDecimal', 'criticalStock', 'idCategoria', 'tipoVenta', 'cantidadLote', 'precioUnitario', 'rechazoProducto', 'publicado', 'created_at', 'updated_at', 'deleted_at', 'published_at', 'centry_id', 'cat_id', 'cat_nombre', 'cat_alias', 'cat_ruta', 'cat_img', 'cat_banner', 'marca'])"
      ]
     },
     "execution_count": 41,
     "metadata": {},
     "output_type": "execute_result"
    }
   ],
   "source": [
    "value.keys()"
   ]
  },
  {
   "cell_type": "code",
   "execution_count": null,
   "id": "866a3ad0-d27c-4206-8346-a5a16d970427",
   "metadata": {},
   "outputs": [],
   "source": [
    "INSERT INTO Products (\n",
    "    id, id_erp, idMarca, seller_id, sku, nombreProducto, modelo, dimension, peso, peso_volumetrico, \n",
    "    ancho, largo, alto, apilable, maxApilable, propAncho, propAlto, propLargo, ruta, pack, \n",
    "    variantesAgrupadas, packPadre, margen, stock, idMedida, precio, precioReferencia, img, \n",
    "    youtube, video, descripcion, descripcionCorta, despacho, retiroTienda, descuento, mostrarHome, \n",
    "    probador, destacado, complemento, precioComplemento, fichaTecnica, nombreFicha, orientacion, \n",
    "    delivery, idProveedor, idioma, tag, meta_title, meta_description, actionStore, currencyBasePrice, \n",
    "    saleDecimal, criticalStock, idCategoria, tipoVenta, cantidadLote, precioUnitario, rechazoProducto, \n",
    "    publicado, created_at, updated_at, deleted_at, published_at, centry_id, cat_id, cat_nombre, \n",
    "    cat_alias, cat_ruta, cat_img, cat_banner, marca\n",
    ") VALUES (\n",
    "    341, NULL, 2, NULL, 'I1100102', 'Sello leger 110 inserto metal Azul 28cm', '110', 1, 0.2800, \n",
    "    1.2977, 28.6, 36.3, 5, 0, NULL, NULL, NULL, NULL, 'sello-leger-110-inserto-metal-azul-28cm-i1100102', \n",
    "    0, 0, NULL, 0, 20.00, NULL, 11305, 0, 'sellos-leger-110-colores-darsa-web.jpg', NULL, NULL, \n",
    "    '<p>Dimensi&oacute;n</p>\\r\\n\\r\\n<p>Alto: 280 mm</p>\\r\\n\\r\\n<p>Ancho: 2 mm</p>', \n",
    "    'Sello ajustable de alta seguridad, con inserto metálico\\xa0y numeración\\xa0correlativa en color azul.', \n",
    "    1, 1, 0.000000, 0, 0, 1, 0, NULL, 0, 1, NULL, 'Sello leger 110 inserto metal Azul 28cm', \n",
    "    'Sello ajustable de alta seguridad, con inserto metálico\\xa0y numeración\\xa0correlativa en color azul.', \n",
    "    1, 0, 0, 0, NULL, 'unidad', 0, 11305, NULL, 1, '2020-04-08 13:10:16', '2023-10-20 10:51:03', \n",
    "    NULL, '2022-06-06 07:58:00', NULL, 3, 'Industrial', 'industrial', '/esp/industrial', \n",
    "    'no-image.jpg', 'no-image-banner.jpg', 'Darsa spa'\n",
    ");\n"
   ]
  },
  {
   "cell_type": "code",
   "execution_count": null,
   "id": "ae02ab38-3f9b-4746-8bdb-6a61f36db6df",
   "metadata": {},
   "outputs": [],
   "source": [
    "ssh -p 22222 dsprod24@ds.prodigiodata.com"
   ]
  },
  {
   "cell_type": "code",
   "execution_count": null,
   "id": "79b2a4b2-0fdc-4967-b442-0cd4980c9a68",
   "metadata": {},
   "outputs": [],
   "source": [
    "SFTP / SSH \n",
    "hostname: ds.prodigiodata.com\n",
    "user: dsprod24\n",
    "    passord: P37zg7GR6efb\n",
    "port: 22222\n",
    "\n",
    "Mysql  \n",
    "url: https://prodigiodata.com/pma/\n",
    "user: dsprodi  \n",
    "password: u30sicdu2SjR\n",
    "dbname: dsprodi"
   ]
  },
  {
   "cell_type": "code",
   "execution_count": null,
   "id": "bd7ba310-bf6a-4b0e-96cb-9255d9b8b2d8",
   "metadata": {},
   "outputs": [],
   "source": [
    "pscp C:\\path\\to\\file.txt username@server_ip_address:/path/to/destination/directory\n",
    "\n",
    "pscp -P 22222 G:\\My Drive\\1.Sudhakar\\1.Scrapy\\2.freelancer\\darsa\\darsacom\\scrapy.zip dsprod24@ds.prodigiodata.com:/home/dsprod24\n",
    "\n"
   ]
  },
  {
   "cell_type": "code",
   "execution_count": null,
   "id": "376ae7a8-1941-437f-92bb-3406190e6c27",
   "metadata": {},
   "outputs": [],
   "source": [
    "P37zg7GR6efb"
   ]
  },
  {
   "cell_type": "code",
   "execution_count": null,
   "id": "a88db8d5-5904-4467-bc06-1c08da456310",
   "metadata": {},
   "outputs": [],
   "source": [
    "nmap -p 22222 170.239.84.29"
   ]
  },
  {
   "cell_type": "code",
   "execution_count": null,
   "id": "81b0bef4-89fb-4cf5-b692-95f8cdcbdccf",
   "metadata": {},
   "outputs": [],
   "source": [
    "lsof -i :8000\n",
    "kill -9 PID\n"
   ]
  },
  {
   "cell_type": "code",
   "execution_count": null,
   "id": "912c9136-bd6b-40ad-b905-bdcdcf34b30b",
   "metadata": {},
   "outputs": [],
   "source": []
  }
 ],
 "metadata": {
  "kernelspec": {
   "display_name": "Python 3 (ipykernel)",
   "language": "python",
   "name": "python3"
  },
  "language_info": {
   "codemirror_mode": {
    "name": "ipython",
    "version": 3
   },
   "file_extension": ".py",
   "mimetype": "text/x-python",
   "name": "python",
   "nbconvert_exporter": "python",
   "pygments_lexer": "ipython3",
   "version": "3.9.13"
  }
 },
 "nbformat": 4,
 "nbformat_minor": 5
}
